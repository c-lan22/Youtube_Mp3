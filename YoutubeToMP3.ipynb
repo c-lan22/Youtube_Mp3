{
  "cells": [
    {
      "cell_type": "markdown",
      "metadata": {
        "id": "view-in-github",
        "colab_type": "text"
      },
      "source": [
        "<a href=\"https://colab.research.google.com/github/c-lan22/Youtube_Mp3/blob/main/YoutubeToMP3.ipynb\" target=\"_parent\"><img src=\"https://colab.research.google.com/assets/colab-badge.svg\" alt=\"Open In Colab\"/></a>"
      ]
    },
    {
      "cell_type": "markdown",
      "metadata": {
        "id": "e8OZNeSiVUIT"
      },
      "source": [
        "Run this code to download applicable libaries at the start of every session\n",
        "\n",
        "---\n",
        "\n"
      ]
    },
    {
      "cell_type": "code",
      "execution_count": null,
      "metadata": {
        "id": "DMbslEpKJLyu",
        "colab": {
          "base_uri": "https://localhost:8080/"
        },
        "outputId": "1f890ad6-69a1-4e28-8b07-acccd9d9a23b"
      },
      "outputs": [
        {
          "output_type": "stream",
          "name": "stdout",
          "text": [
            "Collecting pytube\n",
            "  Downloading pytube-15.0.0-py3-none-any.whl (57 kB)\n",
            "\u001b[2K     \u001b[90m━━━━━━━━━━━━━━━━━━━━━━━━━━━━━━━━━━━━━━━━\u001b[0m \u001b[32m57.6/57.6 kB\u001b[0m \u001b[31m932.7 kB/s\u001b[0m eta \u001b[36m0:00:00\u001b[0m\n",
            "\u001b[?25hInstalling collected packages: pytube\n",
            "Successfully installed pytube-15.0.0\n"
          ]
        }
      ],
      "source": [
        "!pip install pytube"
      ]
    },
    {
      "cell_type": "markdown",
      "metadata": {
        "id": "k65kiGWkU-Qq"
      },
      "source": [
        "\n",
        "\n",
        "---\n",
        "\n",
        "\n",
        "This Block dowloads a playlist and saves it to a file as a mp3 file on google colab. It then compresses the files into a zip file and prompts you to download it.\n",
        "\n",
        "\n",
        "---\n",
        "*paste the url of your youtube playlist below*\n"
      ]
    },
    {
      "cell_type": "code",
      "execution_count": null,
      "metadata": {
        "id": "BGudwXN3Jay3",
        "colab": {
          "base_uri": "https://localhost:8080/",
          "height": 390
        },
        "outputId": "9ee2ae42-94de-4c3f-c6ea-3c38fbce7ce8"
      },
      "outputs": [
        {
          "output_type": "error",
          "ename": "KeyError",
          "evalue": "ignored",
          "traceback": [
            "\u001b[0;31m---------------------------------------------------------------------------\u001b[0m",
            "\u001b[0;31mKeyError\u001b[0m                                  Traceback (most recent call last)",
            "\u001b[0;32m<ipython-input-2-cc0fb9f0a163>\u001b[0m in \u001b[0;36m<cell line: 17>\u001b[0;34m()\u001b[0m\n\u001b[1;32m     15\u001b[0m \u001b[0;34m\u001b[0m\u001b[0m\n\u001b[1;32m     16\u001b[0m \u001b[0;31m#print the name of the play list\u001b[0m\u001b[0;34m\u001b[0m\u001b[0;34m\u001b[0m\u001b[0m\n\u001b[0;32m---> 17\u001b[0;31m \u001b[0mprint\u001b[0m\u001b[0;34m(\u001b[0m\u001b[0;34mf'Downloading From Playlist: {p.title}'\u001b[0m\u001b[0;34m)\u001b[0m\u001b[0;34m\u001b[0m\u001b[0;34m\u001b[0m\u001b[0m\n\u001b[0m\u001b[1;32m     18\u001b[0m \u001b[0mcount\u001b[0m \u001b[0;34m=\u001b[0m \u001b[0;36m0\u001b[0m\u001b[0;34m\u001b[0m\u001b[0;34m\u001b[0m\u001b[0m\n\u001b[1;32m     19\u001b[0m \u001b[0mplaylist_len\u001b[0m \u001b[0;34m=\u001b[0m \u001b[0mp\u001b[0m\u001b[0;34m.\u001b[0m\u001b[0mlength\u001b[0m\u001b[0;34m\u001b[0m\u001b[0;34m\u001b[0m\u001b[0m\n",
            "\u001b[0;32m/usr/local/lib/python3.10/dist-packages/pytube/contrib/playlist.py\u001b[0m in \u001b[0;36mtitle\u001b[0;34m(self)\u001b[0m\n\u001b[1;32m    349\u001b[0m         \u001b[0;34m:\u001b[0m\u001b[0mrtype\u001b[0m\u001b[0;34m:\u001b[0m \u001b[0mOptional\u001b[0m\u001b[0;34m[\u001b[0m\u001b[0mstr\u001b[0m\u001b[0;34m]\u001b[0m\u001b[0;34m\u001b[0m\u001b[0;34m\u001b[0m\u001b[0m\n\u001b[1;32m    350\u001b[0m         \"\"\"\n\u001b[0;32m--> 351\u001b[0;31m         return self.sidebar_info[0]['playlistSidebarPrimaryInfoRenderer'][\n\u001b[0m\u001b[1;32m    352\u001b[0m             'title']['runs'][0]['text']\n\u001b[1;32m    353\u001b[0m \u001b[0;34m\u001b[0m\u001b[0m\n",
            "\u001b[0;32m/usr/local/lib/python3.10/dist-packages/pytube/contrib/playlist.py\u001b[0m in \u001b[0;36msidebar_info\u001b[0;34m(self)\u001b[0m\n\u001b[1;32m     91\u001b[0m             \u001b[0;32mreturn\u001b[0m \u001b[0mself\u001b[0m\u001b[0;34m.\u001b[0m\u001b[0m_sidebar_info\u001b[0m\u001b[0;34m\u001b[0m\u001b[0;34m\u001b[0m\u001b[0m\n\u001b[1;32m     92\u001b[0m         \u001b[0;32melse\u001b[0m\u001b[0;34m:\u001b[0m\u001b[0;34m\u001b[0m\u001b[0;34m\u001b[0m\u001b[0m\n\u001b[0;32m---> 93\u001b[0;31m             self._sidebar_info = self.initial_data['sidebar'][\n\u001b[0m\u001b[1;32m     94\u001b[0m                 'playlistSidebarRenderer']['items']\n\u001b[1;32m     95\u001b[0m             \u001b[0;32mreturn\u001b[0m \u001b[0mself\u001b[0m\u001b[0;34m.\u001b[0m\u001b[0m_sidebar_info\u001b[0m\u001b[0;34m\u001b[0m\u001b[0;34m\u001b[0m\u001b[0m\n",
            "\u001b[0;31mKeyError\u001b[0m: 'sidebar'"
          ]
        }
      ],
      "source": [
        "from google.colab import files\n",
        "import time, random\n",
        "#import the playlist class\n",
        "from pytube import Playlist\n",
        "from pytube.exceptions import VideoUnavailable\n",
        "#\n",
        "# Change the url of your youtube playlist here\n",
        "#                  |                   |\n",
        "#                  |                   |\n",
        "#                  V                   V\n",
        "p = Playlist('')\n",
        "#                                      ^                          ^\n",
        "#                                      |                          |\n",
        "#                                      |                          |\n",
        "\n",
        "#print the name of the play list\n",
        "print(f'Downloading From Playlist: {p.title}')\n",
        "count = 0\n",
        "playlist_len = p.length\n",
        "timer = 0.0;\n",
        "for video in p.videos:\n",
        "  timer = random.random() / 2\n",
        "  time.sleep(timer)\n",
        "  try:\n",
        "    #does not dowload if video is over 10 min\n",
        "    if(video.length < 600 ):\n",
        "        print(str(count) +\" / \"+str(playlist_len) + \" downloading \" + video.title +\"\\n\")\n",
        "        video.streams.get_audio_only().download(\"/mp4files\")\n",
        "\n",
        "    else:\n",
        "      print(\"not downloading \" + video.title +\"\\n\")\n",
        "\n",
        "  except VideoUnavailable:\n",
        "        print('video is unavaialable, skipping.\\n')\n",
        "  count = count + 1\n",
        "from google.colab import files\n",
        "\n",
        "!zip -r '/mp4files/mp4files.zip' '/mp4files'\n",
        "\n",
        "files.download(\"/mp4files/mp4files.zip\")\n"
      ]
    },
    {
      "cell_type": "markdown",
      "metadata": {
        "id": "XgQ-QE6Ul_dL"
      },
      "source": [
        "\n",
        "\n",
        "---\n",
        "\n",
        "\n",
        "This block clears the folders if you want to do that\n",
        "\n",
        "\n",
        "\n",
        "***RUN ONLY AFTER YOU ARE DONE DOWNLOADING***"
      ]
    },
    {
      "cell_type": "code",
      "execution_count": null,
      "metadata": {
        "id": "gPnTVj8utJog"
      },
      "outputs": [],
      "source": [
        "from google.colab import files\n",
        "!rm -rf /mp4files"
      ]
    },
    {
      "cell_type": "markdown",
      "metadata": {
        "id": "ZsCUHwwAWXMW"
      },
      "source": [
        "This block is to download the contents of a file to your pc if it fails in the other block of code"
      ]
    },
    {
      "cell_type": "code",
      "execution_count": null,
      "metadata": {
        "id": "G05cBqbcWgEn"
      },
      "outputs": [],
      "source": [
        "from google.colab import files\n",
        "!zip -r '/mp4files/mp4files.zip' '/mp4files'\n",
        "files.download(\"/mp4files/mp4files.zip\")"
      ]
    }
  ],
  "metadata": {
    "colab": {
      "provenance": [],
      "include_colab_link": true
    },
    "kernelspec": {
      "display_name": "Python 3",
      "name": "python3"
    },
    "language_info": {
      "name": "python"
    }
  },
  "nbformat": 4,
  "nbformat_minor": 0
}